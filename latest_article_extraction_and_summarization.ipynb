{
  "nbformat": 4,
  "nbformat_minor": 0,
  "metadata": {
    "colab": {
      "provenance": []
    },
    "kernelspec": {
      "name": "python3",
      "display_name": "Python 3"
    },
    "language_info": {
      "name": "python"
    }
  },
  "cells": [
    {
      "cell_type": "code",
      "execution_count": null,
      "metadata": {
        "colab": {
          "base_uri": "https://localhost:8080/"
        },
        "id": "c0OeplDDyR_n",
        "outputId": "8ff711b1-a4db-44ef-b335-dabf622f5d71"
      },
      "outputs": [
        {
          "output_type": "stream",
          "name": "stdout",
          "text": [
            "Collecting googlesearch-python\n",
            "  Downloading googlesearch-python-1.2.3.tar.gz (3.9 kB)\n",
            "  Preparing metadata (setup.py) ... \u001b[?25l\u001b[?25hdone\n",
            "Requirement already satisfied: beautifulsoup4>=4.9 in /usr/local/lib/python3.10/dist-packages (from googlesearch-python) (4.11.2)\n",
            "Requirement already satisfied: requests>=2.20 in /usr/local/lib/python3.10/dist-packages (from googlesearch-python) (2.31.0)\n",
            "Requirement already satisfied: soupsieve>1.2 in /usr/local/lib/python3.10/dist-packages (from beautifulsoup4>=4.9->googlesearch-python) (2.4.1)\n",
            "Requirement already satisfied: charset-normalizer<4,>=2 in /usr/local/lib/python3.10/dist-packages (from requests>=2.20->googlesearch-python) (3.2.0)\n",
            "Requirement already satisfied: idna<4,>=2.5 in /usr/local/lib/python3.10/dist-packages (from requests>=2.20->googlesearch-python) (3.4)\n",
            "Requirement already satisfied: urllib3<3,>=1.21.1 in /usr/local/lib/python3.10/dist-packages (from requests>=2.20->googlesearch-python) (2.0.4)\n",
            "Requirement already satisfied: certifi>=2017.4.17 in /usr/local/lib/python3.10/dist-packages (from requests>=2.20->googlesearch-python) (2023.7.22)\n",
            "Building wheels for collected packages: googlesearch-python\n",
            "  Building wheel for googlesearch-python (setup.py) ... \u001b[?25l\u001b[?25hdone\n",
            "  Created wheel for googlesearch-python: filename=googlesearch_python-1.2.3-py3-none-any.whl size=4204 sha256=1c770d503de3c9617359455a4494f078f56b7b1f4ac4de45ea6a2f4390e0234e\n",
            "  Stored in directory: /root/.cache/pip/wheels/98/24/e9/6c225502948c629b01cc895f86406819281ef0da385f3eb669\n",
            "Successfully built googlesearch-python\n",
            "Installing collected packages: googlesearch-python\n",
            "Successfully installed googlesearch-python-1.2.3\n"
          ]
        }
      ],
      "source": [
        "! pip install googlesearch-python\n"
      ]
    },
    {
      "cell_type": "code",
      "source": [
        "! pip install googlenews"
      ],
      "metadata": {
        "colab": {
          "base_uri": "https://localhost:8080/"
        },
        "id": "YPHCsu1VzjT3",
        "outputId": "c3dd88d7-c05c-491b-df6b-e98ae8655adc"
      },
      "execution_count": null,
      "outputs": [
        {
          "output_type": "stream",
          "name": "stdout",
          "text": [
            "Collecting googlenews\n",
            "  Downloading GoogleNews-1.6.10-py3-none-any.whl (8.2 kB)\n",
            "Requirement already satisfied: beautifulsoup4 in /usr/local/lib/python3.10/dist-packages (from googlenews) (4.11.2)\n",
            "Collecting dateparser (from googlenews)\n",
            "  Downloading dateparser-1.1.8-py2.py3-none-any.whl (293 kB)\n",
            "\u001b[2K     \u001b[90m━━━━━━━━━━━━━━━━━━━━━━━━━━━━━━━━━━━━━━━\u001b[0m \u001b[32m293.8/293.8 kB\u001b[0m \u001b[31m4.6 MB/s\u001b[0m eta \u001b[36m0:00:00\u001b[0m\n",
            "\u001b[?25hRequirement already satisfied: python-dateutil in /usr/local/lib/python3.10/dist-packages (from googlenews) (2.8.2)\n",
            "Requirement already satisfied: soupsieve>1.2 in /usr/local/lib/python3.10/dist-packages (from beautifulsoup4->googlenews) (2.4.1)\n",
            "Requirement already satisfied: pytz in /usr/local/lib/python3.10/dist-packages (from dateparser->googlenews) (2023.3)\n",
            "Requirement already satisfied: regex!=2019.02.19,!=2021.8.27 in /usr/local/lib/python3.10/dist-packages (from dateparser->googlenews) (2023.6.3)\n",
            "Requirement already satisfied: tzlocal in /usr/local/lib/python3.10/dist-packages (from dateparser->googlenews) (5.0.1)\n",
            "Requirement already satisfied: six>=1.5 in /usr/local/lib/python3.10/dist-packages (from python-dateutil->googlenews) (1.16.0)\n",
            "Installing collected packages: dateparser, googlenews\n",
            "Successfully installed dateparser-1.1.8 googlenews-1.6.10\n"
          ]
        }
      ]
    },
    {
      "cell_type": "code",
      "source": [
        "! pip install feedparser"
      ],
      "metadata": {
        "colab": {
          "base_uri": "https://localhost:8080/"
        },
        "id": "o0-_hP290vf2",
        "outputId": "9218da95-0c97-46ec-98fd-4935e79ecb5d"
      },
      "execution_count": null,
      "outputs": [
        {
          "output_type": "stream",
          "name": "stdout",
          "text": [
            "Collecting feedparser\n",
            "  Downloading feedparser-6.0.10-py3-none-any.whl (81 kB)\n",
            "\u001b[?25l     \u001b[90m━━━━━━━━━━━━━━━━━━━━━━━━━━━━━━━━━━━━━━━━\u001b[0m \u001b[32m0.0/81.1 kB\u001b[0m \u001b[31m?\u001b[0m eta \u001b[36m-:--:--\u001b[0m\r\u001b[2K     \u001b[91m━━━━━━━━━━━━━━━━━━━━━━━━━━━━━━━━━━━\u001b[0m\u001b[90m╺\u001b[0m\u001b[90m━━━━\u001b[0m \u001b[32m71.7/81.1 kB\u001b[0m \u001b[31m1.9 MB/s\u001b[0m eta \u001b[36m0:00:01\u001b[0m\r\u001b[2K     \u001b[90m━━━━━━━━━━━━━━━━━━━━━━━━━━━━━━━━━━━━━━━━\u001b[0m \u001b[32m81.1/81.1 kB\u001b[0m \u001b[31m1.7 MB/s\u001b[0m eta \u001b[36m0:00:00\u001b[0m\n",
            "\u001b[?25hCollecting sgmllib3k (from feedparser)\n",
            "  Downloading sgmllib3k-1.0.0.tar.gz (5.8 kB)\n",
            "  Preparing metadata (setup.py) ... \u001b[?25l\u001b[?25hdone\n",
            "Building wheels for collected packages: sgmllib3k\n",
            "  Building wheel for sgmllib3k (setup.py) ... \u001b[?25l\u001b[?25hdone\n",
            "  Created wheel for sgmllib3k: filename=sgmllib3k-1.0.0-py3-none-any.whl size=6047 sha256=c988fdf0335ff7f3b6903ddc4e0983ea33d75ab8baabc58dd4aa11a10c03556b\n",
            "  Stored in directory: /root/.cache/pip/wheels/f0/69/93/a47e9d621be168e9e33c7ce60524393c0b92ae83cf6c6e89c5\n",
            "Successfully built sgmllib3k\n",
            "Installing collected packages: sgmllib3k, feedparser\n",
            "Successfully installed feedparser-6.0.10 sgmllib3k-1.0.0\n"
          ]
        }
      ]
    },
    {
      "cell_type": "code",
      "source": [
        "! pip install newspaper3k\n"
      ],
      "metadata": {
        "colab": {
          "base_uri": "https://localhost:8080/"
        },
        "id": "pOApAyt4ofdT",
        "outputId": "35385fa7-04a2-4ec8-aa07-33428f0d918a"
      },
      "execution_count": null,
      "outputs": [
        {
          "output_type": "stream",
          "name": "stdout",
          "text": [
            "Collecting newspaper3k\n",
            "  Downloading newspaper3k-0.2.8-py3-none-any.whl (211 kB)\n",
            "\u001b[?25l     \u001b[90m━━━━━━━━━━━━━━━━━━━━━━━━━━━━━━━━━━━━━━━━\u001b[0m \u001b[32m0.0/211.1 kB\u001b[0m \u001b[31m?\u001b[0m eta \u001b[36m-:--:--\u001b[0m\r\u001b[2K     \u001b[91m━━━━━━━━━━━━━━━━━━━━\u001b[0m\u001b[91m╸\u001b[0m\u001b[90m━━━━━━━━━━━━━━━━━━\u001b[0m \u001b[32m112.6/211.1 kB\u001b[0m \u001b[31m3.5 MB/s\u001b[0m eta \u001b[36m0:00:01\u001b[0m\r\u001b[2K     \u001b[90m━━━━━━━━━━━━━━━━━━━━━━━━━━━━━━━━━━━━━━━\u001b[0m \u001b[32m211.1/211.1 kB\u001b[0m \u001b[31m4.2 MB/s\u001b[0m eta \u001b[36m0:00:00\u001b[0m\n",
            "\u001b[?25hRequirement already satisfied: beautifulsoup4>=4.4.1 in /usr/local/lib/python3.10/dist-packages (from newspaper3k) (4.11.2)\n",
            "Requirement already satisfied: Pillow>=3.3.0 in /usr/local/lib/python3.10/dist-packages (from newspaper3k) (9.4.0)\n",
            "Requirement already satisfied: PyYAML>=3.11 in /usr/local/lib/python3.10/dist-packages (from newspaper3k) (6.0.1)\n",
            "Collecting cssselect>=0.9.2 (from newspaper3k)\n",
            "  Downloading cssselect-1.2.0-py2.py3-none-any.whl (18 kB)\n",
            "Requirement already satisfied: lxml>=3.6.0 in /usr/local/lib/python3.10/dist-packages (from newspaper3k) (4.9.3)\n",
            "Requirement already satisfied: nltk>=3.2.1 in /usr/local/lib/python3.10/dist-packages (from newspaper3k) (3.8.1)\n",
            "Requirement already satisfied: requests>=2.10.0 in /usr/local/lib/python3.10/dist-packages (from newspaper3k) (2.31.0)\n",
            "Requirement already satisfied: feedparser>=5.2.1 in /usr/local/lib/python3.10/dist-packages (from newspaper3k) (6.0.10)\n",
            "Collecting tldextract>=2.0.1 (from newspaper3k)\n",
            "  Downloading tldextract-3.4.4-py3-none-any.whl (93 kB)\n",
            "\u001b[2K     \u001b[90m━━━━━━━━━━━━━━━━━━━━━━━━━━━━━━━━━━━━━━━━\u001b[0m \u001b[32m93.3/93.3 kB\u001b[0m \u001b[31m6.4 MB/s\u001b[0m eta \u001b[36m0:00:00\u001b[0m\n",
            "\u001b[?25hCollecting feedfinder2>=0.0.4 (from newspaper3k)\n",
            "  Downloading feedfinder2-0.0.4.tar.gz (3.3 kB)\n",
            "  Preparing metadata (setup.py) ... \u001b[?25l\u001b[?25hdone\n",
            "Collecting jieba3k>=0.35.1 (from newspaper3k)\n",
            "  Downloading jieba3k-0.35.1.zip (7.4 MB)\n",
            "\u001b[2K     \u001b[90m━━━━━━━━━━━━━━━━━━━━━━━━━━━━━━━━━━━━━━━━\u001b[0m \u001b[32m7.4/7.4 MB\u001b[0m \u001b[31m32.6 MB/s\u001b[0m eta \u001b[36m0:00:00\u001b[0m\n",
            "\u001b[?25h  Preparing metadata (setup.py) ... \u001b[?25l\u001b[?25hdone\n",
            "Requirement already satisfied: python-dateutil>=2.5.3 in /usr/local/lib/python3.10/dist-packages (from newspaper3k) (2.8.2)\n",
            "Collecting tinysegmenter==0.3 (from newspaper3k)\n",
            "  Downloading tinysegmenter-0.3.tar.gz (16 kB)\n",
            "  Preparing metadata (setup.py) ... \u001b[?25l\u001b[?25hdone\n",
            "Requirement already satisfied: soupsieve>1.2 in /usr/local/lib/python3.10/dist-packages (from beautifulsoup4>=4.4.1->newspaper3k) (2.4.1)\n",
            "Requirement already satisfied: six in /usr/local/lib/python3.10/dist-packages (from feedfinder2>=0.0.4->newspaper3k) (1.16.0)\n",
            "Requirement already satisfied: sgmllib3k in /usr/local/lib/python3.10/dist-packages (from feedparser>=5.2.1->newspaper3k) (1.0.0)\n",
            "Requirement already satisfied: click in /usr/local/lib/python3.10/dist-packages (from nltk>=3.2.1->newspaper3k) (8.1.7)\n",
            "Requirement already satisfied: joblib in /usr/local/lib/python3.10/dist-packages (from nltk>=3.2.1->newspaper3k) (1.3.2)\n",
            "Requirement already satisfied: regex>=2021.8.3 in /usr/local/lib/python3.10/dist-packages (from nltk>=3.2.1->newspaper3k) (2023.6.3)\n",
            "Requirement already satisfied: tqdm in /usr/local/lib/python3.10/dist-packages (from nltk>=3.2.1->newspaper3k) (4.66.1)\n",
            "Requirement already satisfied: charset-normalizer<4,>=2 in /usr/local/lib/python3.10/dist-packages (from requests>=2.10.0->newspaper3k) (3.2.0)\n",
            "Requirement already satisfied: idna<4,>=2.5 in /usr/local/lib/python3.10/dist-packages (from requests>=2.10.0->newspaper3k) (3.4)\n",
            "Requirement already satisfied: urllib3<3,>=1.21.1 in /usr/local/lib/python3.10/dist-packages (from requests>=2.10.0->newspaper3k) (2.0.4)\n",
            "Requirement already satisfied: certifi>=2017.4.17 in /usr/local/lib/python3.10/dist-packages (from requests>=2.10.0->newspaper3k) (2023.7.22)\n",
            "Collecting requests-file>=1.4 (from tldextract>=2.0.1->newspaper3k)\n",
            "  Downloading requests_file-1.5.1-py2.py3-none-any.whl (3.7 kB)\n",
            "Requirement already satisfied: filelock>=3.0.8 in /usr/local/lib/python3.10/dist-packages (from tldextract>=2.0.1->newspaper3k) (3.12.2)\n",
            "Building wheels for collected packages: tinysegmenter, feedfinder2, jieba3k\n",
            "  Building wheel for tinysegmenter (setup.py) ... \u001b[?25l\u001b[?25hdone\n",
            "  Created wheel for tinysegmenter: filename=tinysegmenter-0.3-py3-none-any.whl size=13541 sha256=eda68c72409f797515c3e1f16e9cb8cc8ee8d39e43f8de63c8d31c7a9d10b10c\n",
            "  Stored in directory: /root/.cache/pip/wheels/c8/d6/6c/384f58df48c00b9a31d638005143b5b3ac62c3d25fb1447f23\n",
            "  Building wheel for feedfinder2 (setup.py) ... \u001b[?25l\u001b[?25hdone\n",
            "  Created wheel for feedfinder2: filename=feedfinder2-0.0.4-py3-none-any.whl size=3339 sha256=587d70510f44166056a34d662eeb0736368c3f37b489256519d0be716d704f48\n",
            "  Stored in directory: /root/.cache/pip/wheels/97/02/e7/a1ff1760e12bdbaab0ac824fae5c1bc933e41c4ccd6a8f8edb\n",
            "  Building wheel for jieba3k (setup.py) ... \u001b[?25l\u001b[?25hdone\n",
            "  Created wheel for jieba3k: filename=jieba3k-0.35.1-py3-none-any.whl size=7398380 sha256=f036670526f243a9051025cd8fd433a19bb767a3f542a1e5e2a2eadea6b28418\n",
            "  Stored in directory: /root/.cache/pip/wheels/7a/c4/0c/12a9a314ecac499456c4c3b2fcc2f635a3b45a39dfbd240299\n",
            "Successfully built tinysegmenter feedfinder2 jieba3k\n",
            "Installing collected packages: tinysegmenter, jieba3k, cssselect, requests-file, feedfinder2, tldextract, newspaper3k\n",
            "Successfully installed cssselect-1.2.0 feedfinder2-0.0.4 jieba3k-0.35.1 newspaper3k-0.2.8 requests-file-1.5.1 tinysegmenter-0.3 tldextract-3.4.4\n"
          ]
        }
      ]
    },
    {
      "cell_type": "code",
      "source": [
        "import spacy\n",
        "from spacy.lang.en.stop_words import STOP_WORDS\n",
        "from string import punctuation\n",
        "from heapq import nlargest"
      ],
      "metadata": {
        "id": "KC0ivNk5thzP"
      },
      "execution_count": null,
      "outputs": []
    },
    {
      "cell_type": "code",
      "source": [
        "from googlesearch import search\n",
        "\n",
        "def search_medical_links(query, num_links=10):\n",
        "    links = []\n",
        "    for result in search(query, num_results=num_links):\n",
        "        links.append(result)\n",
        "    return links\n",
        "\n",
        "if __name__ == \"__main__\":\n",
        "    query = \"medical information related to brain\"\n",
        "    num_links = 10\n",
        "    medical_links = search_medical_links(query, num_links)\n",
        "\n",
        "    for idx, link in enumerate(medical_links, start=1):\n",
        "        print(f\"{idx}. {link}\")\n",
        "\n",
        "\n"
      ],
      "metadata": {
        "colab": {
          "base_uri": "https://localhost:8080/"
        },
        "id": "v48gJlOFyW2h",
        "outputId": "c09275f5-ee7c-45b2-990b-66f0d878a674"
      },
      "execution_count": null,
      "outputs": [
        {
          "output_type": "stream",
          "name": "stdout",
          "text": [
            "1. https://www.hopkinsmedicine.org/health/conditions-and-diseases/anatomy-of-the-brain\n",
            "2. https://www.ninds.nih.gov/health-information/public-education/brain-basics/brain-basics-know-your-brain\n",
            "3. https://www.who.int/health-topics/brain-health\n",
            "4. https://www.nm.org/healthbeat/healthy-tips/11-fun-facts-about-your-brain\n",
            "5. https://my.clevelandclinic.org/health/body/22638-brain\n",
            "6. https://medlineplus.gov/braindiseases.html\n",
            "7. https://www.webmd.com/brain/brain-diseases\n",
            "8. https://www.bmj.com/content/371/bmj.m3683\n",
            "9. https://www.humanbrainproject.eu/en/medicine/\n",
            "10. https://research-and-innovation.ec.europa.eu/research-area/health/brain-research_en\n",
            "11. https://www.thelancet.com/journals/laneur/article/PIIS1474-4422(21)00102-2/fulltext\n",
            "12. https://www.cdc.gov/heartdisease/brain_health.htm\n"
          ]
        }
      ]
    },
    {
      "cell_type": "code",
      "source": [
        "from GoogleNews import GoogleNews\n",
        "\n",
        "def search_latest_medical_articles(query, num_articles=10):\n",
        "    googlenews = GoogleNews(lang='en', period='7d', encode='utf-8')\n",
        "    googlenews.search(query)\n",
        "    news_items = googlenews.result()[:num_articles]\n",
        "    return news_items\n",
        "\n",
        "if __name__ == \"__main__\":\n",
        "    query = \"medical information\"\n",
        "    num_articles = 10\n",
        "    medical_articles = search_latest_medical_articles(query, num_articles)\n",
        "\n",
        "    for idx, article in enumerate(medical_articles, start=1):\n",
        "        print(f\"{idx}. Title: {article['title']}\")\n",
        "        print(f\"   Source: {article['media']}\")\n",
        "        print(f\"   Date: {article['date']}\")\n",
        "        print(f\"   Link: {article['link']}\")\n",
        "        print()\n"
      ],
      "metadata": {
        "colab": {
          "base_uri": "https://localhost:8080/"
        },
        "id": "tEgjfVSLyjjf",
        "outputId": "c7ba4cc1-cc4f-4db0-80ef-977d6f5a389d"
      },
      "execution_count": null,
      "outputs": [
        {
          "output_type": "stream",
          "name": "stdout",
          "text": [
            "1. Title: Voices: Will O'Connor, Chief Medical Information Officer, TigerConnect\n",
            "   Source: Behavioral Health Business\n",
            "   Date: 1 hours ago\n",
            "   Link: /url?esrc=s&q=&rct=j&sa=U&url=https://bhbusiness.com/2023/08/22/voices-will-oconnor-chief-medical-information-officer-tigerconnect/&ved=2ahUKEwidxqLYgvKAAxU_N0QIHc-NDmwQxfQBegQIBRAC&usg=AOvVaw3mxt4fQDpSogBdlWzlcgQc\n",
            "\n",
            "2. Title: Medical misinformation leaves patients in 'muddled middle' for health care knowledge\n",
            "   Source: Medical Economics\n",
            "   Date: 2 hours ago\n",
            "   Link: /url?esrc=s&q=&rct=j&sa=U&url=https://www.medicaleconomics.com/view/medical-misinformation-leaves-patients-in-muddled-middle-for-health-care-knowledge&ved=2ahUKEwidxqLYgvKAAxU_N0QIHc-NDmwQxfQBegQIBhAC&usg=AOvVaw3TXCdxa7heIV-C3805UhXi\n",
            "\n",
            "3. Title: 4 Million Impacted in Colorado Department of Health Care IBM MOVEit Data Breach\n",
            "   Source: CPO Magazine\n",
            "   Date: 3 hours ago\n",
            "   Link: /url?esrc=s&q=&rct=j&sa=U&url=https://www.cpomagazine.com/cyber-security/4-million-impacted-in-colorado-department-of-health-care-ibm-moveit-data-breach/&ved=2ahUKEwidxqLYgvKAAxU_N0QIHc-NDmwQxfQBegQIAhAC&usg=AOvVaw3GLGt6LEGU95BBeRwV8WDB\n",
            "\n",
            "4. Title: Healthcare Interoperability Market Growth Opportunities - Omnichannel Data Sharing and Analytics, Convergence of AI-API with Blockchain Devices and IoMT Connectors\n",
            "   Source: Yahoo Finance\n",
            "   Date: 7 hours ago\n",
            "   Link: /url?esrc=s&q=&rct=j&sa=U&url=https://uk.finance.yahoo.com/news/healthcare-interoperability-market-growth-opportunities-115800223.html&ved=2ahUKEwidxqLYgvKAAxU_N0QIHc-NDmwQxfQBegQIBBAC&usg=AOvVaw1xS8_yStOFplGppDpg4wcp\n",
            "\n",
            "5. Title: Poll Shows Who Americans Trust (and Don't Trust) for Health News\n",
            "   Source: Consumer HealthDay\n",
            "   Date: 7 hours ago\n",
            "   Link: /url?esrc=s&q=&rct=j&sa=U&url=https://consumer.healthday.com/misinformation-2664190376.html&ved=2ahUKEwidxqLYgvKAAxU_N0QIHc-NDmwQxfQBegQICBAC&usg=AOvVaw1tRIxsiZfc94lKMV-8XwgX\n",
            "\n",
            "6. Title: Launching Med.ro Medical Portal with Useful Information on Health and Beauty\n",
            "   Source: Outlook India\n",
            "   Date: 1 hours ago\n",
            "   Link: /url?esrc=s&q=&rct=j&sa=U&url=https://www.outlookindia.com/outlook-spotlight/launching-med-ro-medical-portal-with-useful-information-on-health-and-beauty-news-312611&ved=2ahUKEwidxqLYgvKAAxU_N0QIHc-NDmwQxfQBegQIABAC&usg=AOvVaw0dZpo-t7HwM5TVLUSbje4q\n",
            "\n"
          ]
        }
      ]
    },
    {
      "cell_type": "code",
      "source": [
        "from newspaper import Article\n",
        "\n",
        "url = 'https://www.ninds.nih.gov/health-information/public-education/brain-basics/brain-basics-know-your-brain'\n",
        "article = Article(url)\n",
        "article.download()\n",
        "article.parse()"
      ],
      "metadata": {
        "id": "y-hlA2cPobQh"
      },
      "execution_count": null,
      "outputs": []
    },
    {
      "cell_type": "code",
      "source": [
        "article.text"
      ],
      "metadata": {
        "colab": {
          "base_uri": "https://localhost:8080/",
          "height": 1000
        },
        "id": "4pz7nGA7tA5-",
        "outputId": "3b1f4808-bdb3-4517-8564-2ff0af5b6b04"
      },
      "execution_count": null,
      "outputs": [
        {
          "output_type": "execute_result",
          "data": {
            "text/plain": [
              "'Image\\n\\nThe brain is the most complex part of the human body. This three-pound organ is the seat of intelligence, interpreter of the senses, initiator of body movement, and controller of behavior. Lying in its bony shell and washed by protective fluid, the brain is the source of all the qualities that define our humanity. The brain is the crown jewel of the human body.\\n\\nThis fact sheet is a basic introduction to the human brain. It may help you understand how the healthy brain works, how to keep it healthy, and what happens when the brain is diseased or dysfunctional.\\n\\nThe Structure of the Brain\\n\\nImage\\n\\nThe brain is like a group of experts. All the parts of the brain work together, but each part has its own special responsibilities. The brain can be divided into three basic units: the forebrain, the midbrain, and the hindbrain.\\n\\nThe hindbrain includes the upper part of the spinal cord, the brain stem, and a wrinkled ball of tissue called the cerebellum. The hindbrain controls the body’s vital functions such as respiration and heart rate.\\n\\nThe cerebellum coordinates movement and is involved in learned rote movements. When you play the piano or hit a tennis ball you are activating the cerebellum.\\n\\nThe uppermost part of the brainstem is the midbrain, which controls some reflex actions and is part of the circuit involved in the control of eye movements and other voluntary movements. The forebrain is the largest and most highly developed part of the human brain: it consists primarily of the cerebrum and the structures hidden beneath it (see \"The Inner Brain\").\\n\\nImage\\n\\nWhen people see pictures of the brain it is usually the cerebrum that they notice. The cerebrum sits at the topmost part of the brain and is the source of intellectual activities. It holds your memories, allows you to plan, enables you to imagine and think. It allows you to recognize friends, read books, and play games.\\n\\nThe cerebrum is split into two halves (hemispheres) by a deep fissure. Despite the split, the two cerebral hemispheres communicate with each other through a thick tract of nerve fibers that lies at the base of this fissure. Although the two hemispheres seem to be mirror images of each other, they are different. For instance, the ability to form words seems to lie primarily in the left hemisphere, while the right hemisphere seems to control many abstract reasoning skills.\\n\\nFor some as-yet-unknown reason, nearly all of the signals from the brain to the body and vice-versa cross over on their way to and from the brain. This means that the right cerebral hemisphere primarily controls the left side of the body, and the left hemisphere primarily controls the right side. When one side of the brain is damaged, the opposite side of the body is affected. For example, a stroke in the right hemisphere of the brain can leave the left arm and leg paralyzed.\\n\\nThe Cerebral Cortex\\n\\nCoating the surface of the cerebrum and the cerebellum is a vital layer of tissue the thickness of a stack of two or three dimes. It is called the cortex, from the Latin word for bark. Most of the actual information processing in the brain takes place in the cerebral cortex. When people talk about \"gray matter\" in the brain they are talking about this thin rind. The cortex is gray because nerves in this area lack the insulation that makes most other parts of the brain appear to be white. The folds in the brain add to its surface area and therefore increase the amount of gray matter and the quantity of information that can be processed.\\n\\nThe Geography of Thought\\n\\nImage\\n\\nEach cerebral hemisphere can be divided into sections, or lobes, each of which specializes in different functions. To understand each lobe and its specialty we will take a tour of the cerebral hemispheres.\\n\\nFrontal lobes\\n\\nImage\\n\\nThe two frontal lobes lie directly behind the forehead. When you plan a schedule, imagine the future, or use reasoned arguments, these two lobes do much of the work. One of the ways the frontal lobes seem to do these things is by acting as short-term storage sites, allowing one idea to be kept in mind while other ideas are considered.\\n\\nMotor cortex\\n\\nImage\\n\\nIn the rearmost portion of each frontal lobe is a motor cortex, which helps plan, control, and execute voluntary movement, or intentional movement, like moving your arm or kicking a ball.\\n\\nParietal lobes\\n\\nImage\\n\\nWhen you enjoy a good meal—the taste, aroma, and texture of the food—two sections behind the frontal lobes called the parietal lobes are at work. Reading and arithmetic are also functions in the repertoire of each parietal lobe.\\n\\nSomatosensory cortex\\n\\nImage\\n\\nThe forward parts of these lobes, just behind the motor areas, is the somatosensory cortex. These areas receive information about temperature, taste, touch, and movement from the rest of the body.\\n\\nOccipital lobes\\n\\nImage\\n\\nAs you look at the words and pictures on this page, two areas at the back of the brain are at work. These lobes, called the occipital lobes, process images from the eyes and link that information with images stored in memory. Damage to the occipital lobes can cause blindness.\\n\\nTemporal lobes\\n\\nImage\\n\\nThe last lobes on our tour of the cerebral hemispheres are the temporal lobes, which lie in front of the visual areas and nest under the parietal and frontal lobes. Whether you appreciate symphonies or rock music, your brain responds through the activity of these lobes. At the top of each temporal lobe is an area responsible for receiving information from the ears. The underside of each temporal lobe plays a crucial role in forming and retrieving memories, including those associated with music. Other parts of this lobe seem to integrate memories and sensations of taste, sound, sight, and touch.\\n\\nThe Inner Brain\\n\\nDeep within the brain, hidden from view, lie structures that are the gatekeepers between the spinal cord and the cerebral hemispheres. These structures not only determine our emotional state, but they also modify our perceptions and responses depending on that state, and allow us to initiate movements that you make without thinking about them. Like the lobes in the cerebral hemispheres, the structures described below come in pairs: each is duplicated in the opposite half of the brain.\\n\\nImage\\n\\nThe hypothalamus, about the size of a pearl, directs a multitude of important functions. It wakes you up in the morning, and gets the adrenaline flowing during a test or job interview. The hypothalamus is also an important emotional center, controlling the molecules that make you feel exhilarated, angry, or unhappy. Near the hypothalamus lies the thalamus, a major clearinghouse for information going to and from the spinal cord and the cerebrum.\\n\\nAn arching tract of nerve cells leads from the hypothalamus and the thalamus to the hippocampus. This tiny nub acts as a memory indexer—sending memories out to the appropriate part of the cerebral hemisphere for long-term storage and retrieving them when necessary. The basal ganglia (not shown) are clusters of nerve cells surrounding the thalamus. They are responsible for initiating and integrating movements. Parkinson’s disease, which results in tremors, rigidity, and a stiff, shuffling walk, is a disease of nerve cells that lead into the basal ganglia.\\n\\nThe Neuron\\n\\nThe brain and the rest of the nervous system are composed of many different types of cells, but the primary functional unit is a cell called the neuron. All sensations, movements, thoughts, memories, and feelings are the result of signals that pass through neurons. Neurons consist of three parts: the cell body, dendrites, and the axon.\\n\\nImage\\n\\nThe cell body contains the nucleus, where most of the molecules that the neuron needs to survive and function are manufactured. Dendrites extend out from the cell body like the branches of a tree and receive messages from other nerve cells. Signals then pass from the dendrites through the cell body and may travel away from the cell body down an axon to another neuron, a muscle cell, or cells in some other organ.\\n\\nThe neuron is usually surrounded by many support cells. Some types of cells wrap around the axon to form an insulating myelin sheath. Myelin is a fatty molecule which provides insulation for the axon and helps nerve signals travel faster and farther. Axons may be very short, such as those that carry signals from one cell in the cortex to another cell less than a hair’s width away. Or axons may be very long, such as those that carry messages from the brain all the way down the spinal cord.\\n\\nThe Synapse\\n\\nImage\\n\\nScientists have learned a great deal about neurons by studying the synapse—the place where a signal passes from the neuron to another cell. When the signal reaches the end of the axon it stimulates the release of tiny vesicles. These structures release chemicals known as neurotransmitters into the synapse. The neurotransmitters cross the synapse and attach to receptors on the neighboring cell. These receptors can change the properties of the receiving cell. If the receiving cell is also a neuron, the signal can continue the transmission to the next cell.\\n\\nSome Key Neurotransmitters At Work\\n\\nNeurotransmitters are chemicals that brain cells use to talk to each other. Some neurotransmitters make cells more active (called excitatory) while others block or dampen a cell\\'s activity (called inhibitory).'"
            ],
            "application/vnd.google.colaboratory.intrinsic+json": {
              "type": "string"
            }
          },
          "metadata": {},
          "execution_count": 15
        }
      ]
    },
    {
      "cell_type": "code",
      "source": [
        "def summarize(text, per):\n",
        "    nlp = spacy.load('en_core_web_sm')\n",
        "    doc= nlp(text)\n",
        "    tokens=[token.text for token in doc]\n",
        "    word_frequencies={}\n",
        "    for word in doc:\n",
        "        if word.text.lower() not in list(STOP_WORDS):\n",
        "            if word.text.lower() not in punctuation:\n",
        "                if word.text not in word_frequencies.keys():\n",
        "                    word_frequencies[word.text] = 1\n",
        "                else:\n",
        "                    word_frequencies[word.text] += 1\n",
        "    max_frequency=max(word_frequencies.values())\n",
        "    for word in word_frequencies.keys():\n",
        "        word_frequencies[word]=word_frequencies[word]/max_frequency\n",
        "    sentence_tokens= [sent for sent in doc.sents]\n",
        "    sentence_scores = {}\n",
        "    for sent in sentence_tokens:\n",
        "        for word in sent:\n",
        "            if word.text.lower() in word_frequencies.keys():\n",
        "                if sent not in sentence_scores.keys():\n",
        "                    sentence_scores[sent]=word_frequencies[word.text.lower()]\n",
        "                else:\n",
        "                    sentence_scores[sent]+=word_frequencies[word.text.lower()]\n",
        "    select_length=int(len(sentence_tokens)*per)\n",
        "    summary=nlargest(select_length, sentence_scores,key=sentence_scores.get)\n",
        "    final_summary=[word.text for word in summary]\n",
        "    summary=''.join(final_summary)\n",
        "    return summary"
      ],
      "metadata": {
        "id": "gn7gqS3Tt4it"
      },
      "execution_count": null,
      "outputs": []
    },
    {
      "cell_type": "code",
      "source": [
        "summarize(article.text, 0.05)"
      ],
      "metadata": {
        "colab": {
          "base_uri": "https://localhost:8080/",
          "height": 108
        },
        "id": "PiibdZTNuVzM",
        "outputId": "17ddba67-c41e-4420-a326-729ae96b8c8a"
      },
      "execution_count": null,
      "outputs": [
        {
          "output_type": "execute_result",
          "data": {
            "text/plain": [
              "'Temporal lobes\\n\\nImage\\n\\nThe last lobes on our tour of the cerebral hemispheres are the temporal lobes, which lie in front of the visual areas and nest under the parietal and frontal lobes.Motor cortex\\n\\nImage\\n\\nIn the rearmost portion of each frontal lobe is a motor cortex, which helps plan, control, and execute voluntary movement, or intentional movement, like moving your arm or kicking a ball.\\n\\nParietal lobes\\n\\nImage\\n\\nWhen you enjoy a good meal—the taste, aroma, and texture of the food—two sections behind the frontal lobes called the parietal lobes are at work.Occipital lobes\\n\\nImage\\n\\nAs you look at the words and pictures on this page, two areas at the back of the brain are at work.'"
            ],
            "application/vnd.google.colaboratory.intrinsic+json": {
              "type": "string"
            }
          },
          "metadata": {},
          "execution_count": 16
        }
      ]
    },
    {
      "cell_type": "code",
      "source": [],
      "metadata": {
        "id": "s3h7GXo802eh"
      },
      "execution_count": null,
      "outputs": []
    }
  ]
}